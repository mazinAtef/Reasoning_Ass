{
 "cells": [
  {
   "cell_type": "markdown",
   "id": "adaf92c9",
   "metadata": {},
   "source": [
    "#  20210317 -20210095\n",
    "\n",
    "# It should contain the functions that cover the following steps (resolution steps):\n",
    "# 1. Eliminate implication\n",
    "# ( p ⇒ q) → (¬p ∨ q)\n",
    "# 2. Move negation inward (Demorgan Law)\n",
    "# ¬( p ∧ q) → ¬p ∨ ¬q\n",
    "# ¬( p ∨ q) → ¬p ∧ ¬q\n",
    "# ¬∀ x p → ∃x ¬p\n",
    "# ¬∃ x p → ∀x ¬p\n",
    "# 3. Remove double-not.\n",
    "# ¬¬ p → p\n",
    "# 4. Standardize variable scope.\n",
    "# (∀x P( x)) ∨ (∃x Q( x)) → (∀x P( x)) ∨ (∃y Q( y))\n",
    "# 5. The prenex form (obtained by moving all quantifiers to the left of the formula.)\n",
    "# (∀x P( x)) ∨ (∃y Q( y)) → ∀x ∃y P( x) ∨ Q( y)\n",
    "# 6. Skolemization for existential quantifiers.\n",
    "# ∃y P( A) ∨ Q( y) → P( A) ∨ Q(B)\n",
    "# ∀x ∃y P( x) ∨ Q( y) → ∀x P( x) ∨ Q(F ( x))\n",
    "# 7. Eliminate universal quantifiers.\n",
    "# ∀x P( x) ∨ Q(F ( x)) → P( x) ∨ Q(F ( x))\n",
    "# 8. Convert to conjunctive normal form\n",
    "# p ∨ (q ∧ r) → ( p ∨ q) ∧ ( p ∨ r)\n",
    "# 9. Turn conjunctions into clauses in a set, and rename variables so that noclause shares the same variable name.\n",
    "# \n",
    "# 10.Rename variables in clauses so that each clause has a unique variable name.\n",
    "# \n"
   ]
  },
  {
   "cell_type": "code",
   "execution_count": 117,
   "id": "f7c3744a",
   "metadata": {},
   "outputs": [],
   "source": [
    "import re"
   ]
  },
  {
   "cell_type": "markdown",
   "id": "78a87289",
   "metadata": {},
   "source": [
    "# Eliminate implication"
   ]
  },
  {
   "cell_type": "code",
   "execution_count": 138,
   "id": "171a7b2b",
   "metadata": {},
   "outputs": [
    {
     "name": "stdout",
     "output_type": "stream",
     "text": [
      "Original Expression: ∃x ∀y (p(x) =>q(x)))∧(¬m(y) ∨ n(y))\n",
      "Expression after eliminating implication: ∃x ∀y (p(x) =>q(x)))∧(¬m(y) ∨ n(y))\n",
      "\n",
      "Original Expression: (p => q) => m\n",
      "Expression after eliminating implication: (¬p ∨ q) => m\n",
      "\n",
      "Original Expression: (p => q) => (n => m)\n",
      "Expression after eliminating implication: (¬p ∨ q) => (¬n ∨ m)\n",
      "\n"
     ]
    }
   ],
   "source": [
    "# def eliminate_implication(expression):\n",
    "#     # Define a regex pattern to match implications\n",
    "#     pattern = r'\\((\\w+)\\s*=>\\s*(\\w+)\\)'\n",
    "    \n",
    "#     # Use a lambda function as replacement to eliminate implication\n",
    "#     replaced_expression = re.sub(pattern, lambda match: f'(¬{match.group(1)} ∨ {match.group(2)})', expression)\n",
    "    \n",
    "#     return replaced_expression\n",
    "\n",
    "# # Example \n",
    "# logical_expression = \"(p => q) \"\n",
    "# result = eliminate_implication(logical_expression)\n",
    "# print(\"Original Expression:\", logical_expression)\n",
    "# print(\"Expression after eliminating implication:\", result)\n",
    "\n",
    "def eliminate_implication(expression):\n",
    "    # Define a regex pattern to match implications\n",
    "    pattern = r'(\\w+)\\s*=>\\s*(\\w+)'\n",
    "    \n",
    "    # Use a lambda function as replacement to eliminate implication\n",
    "    replaced_expression = re.sub(pattern, lambda match: f'¬{match.group(1)} ∨ {match.group(2)}', expression)\n",
    "    \n",
    "    return replaced_expression\n",
    "\n",
    "# Examples\n",
    "logical_expressions = [\n",
    "    \"∃x ∀y (p(x) =>q(x)))∧(¬m(y) ∨ n(y))\",\n",
    "    \"(p => q) => m\",\n",
    "    \"(p => q) => (n => m)\"\n",
    "]\n",
    "\n",
    "for expr in logical_expressions:\n",
    "    result = eliminate_implication(expr)\n",
    "    print(f\"Original Expression: {expr}\")\n",
    "    print(f\"Expression after eliminating implication: {result}\\n\")\n",
    "\n",
    "\n"
   ]
  },
  {
   "cell_type": "markdown",
   "id": "739c955b",
   "metadata": {},
   "source": [
    "# Move negation inward "
   ]
  },
  {
   "cell_type": "code",
   "execution_count": 164,
   "id": "c856c557",
   "metadata": {},
   "outputs": [
    {
     "name": "stdout",
     "output_type": "stream",
     "text": [
      "Original Expression: ¬∀x¬p\n",
      "Expression after applying Demorgan's law: ¬∀x¬p\n",
      "\n",
      "Original Expression: ¬(p ∨ q)\n",
      "Expression after applying Demorgan's law: (¬p ∧ ¬q)\n",
      "\n",
      "Original Expression: ¬∀x p\n",
      "Expression after applying Demorgan's law: (∃x ¬p)\n",
      "\n",
      "Original Expression: ¬∃x p\n",
      "Expression after applying Demorgan's law: (∀x ¬p)\n",
      "\n",
      "Original Expression: ¬(¬p ∧ q)\n",
      "Expression after applying Demorgan's law: (¬¬p ∨ ¬q)\n",
      "\n",
      "Original Expression: ¬(¬p ∨ q)\n",
      "Expression after applying Demorgan's law: (¬¬p ∧ ¬q)\n",
      "\n"
     ]
    }
   ],
   "source": [
    "def move_negation_inward(expression):\n",
    "    # Apply Demorgan's law for negating conjunction\n",
    "    expression = re.sub(r'¬\\((\\w+)\\s*∧\\s*(\\w+)\\)', r'(¬\\1 ∨ ¬\\2)', expression)\n",
    "    \n",
    "    # Apply Demorgan's law for negating disjunction\n",
    "    expression = re.sub(r'¬\\((\\w+)\\s*∨\\s*(\\w+)\\)', r'(¬\\1 ∧ ¬\\2)', expression)\n",
    "    \n",
    "    # Apply Demorgan's law for negating universal quantification\n",
    "    expression = re.sub(r'¬∀\\s*(\\w+)\\s*(\\w+)', r'(∃\\1 ¬\\2)', expression)\n",
    "    \n",
    "    # Apply Demorgan's law for negating existential quantification\n",
    "    expression = re.sub(r'¬∃\\s*(\\w+)\\s*(\\w+)', r'(∀\\1 ¬\\2)', expression)\n",
    "    \n",
    "    # Apply Demorgan's law for negating double negation in conjunction\n",
    "    expression = re.sub(r'¬\\(¬\\s*(\\w+)\\s*∧\\s*(\\w+)\\)', r'(¬¬\\1 ∨ ¬\\2)', expression)\n",
    "    \n",
    "    # Apply Demorgan's law for negating double negation in disjunction\n",
    "    expression = re.sub(r'¬\\(¬\\s*(\\w+)\\s*∨\\s*(\\w+)\\)', r'(¬¬\\1 ∧ ¬\\2)', expression)\n",
    "    \n",
    "    return expression\n",
    "\n",
    "# Examples\n",
    "logical_expressions = [\n",
    "    \"¬∀x ¬p\",\n",
    "    \"¬(p ∨ q)\",\n",
    "    \"¬∀x p\",\n",
    "    \"¬∃x p\",\n",
    "    \"¬(¬p ∧ q)\",\n",
    "    \"¬(¬p ∨ q)\"\n",
    "]\n",
    "\n",
    "for expr in logical_expressions:\n",
    "    result = move_negation_inward(expr)\n",
    "    print(f\"Original Expression: {expr}\")\n",
    "    print(f\"Expression after applying Demorgan's law: {result}\\n\")\n"
   ]
  },
  {
   "cell_type": "markdown",
   "id": "37cecef6",
   "metadata": {},
   "source": [
    "# Remove double-not\n"
   ]
  },
  {
   "cell_type": "code",
   "execution_count": 120,
   "id": "999b502c",
   "metadata": {},
   "outputs": [
    {
     "name": "stdout",
     "output_type": "stream",
     "text": [
      "result:  p ¬ p ∧ q\n",
      "\n",
      "result: ¬ p\n",
      "\n",
      "result:  p ∨ q\n",
      "\n"
     ]
    }
   ],
   "source": [
    "def remove_double_negations(expression):\n",
    "    # Replace pattern for removing double negations\n",
    "    expression = re.sub(r'¬¬', '', expression)\n",
    "    \n",
    "    # Replace pattern for removing triple negations\n",
    "    expression = re.sub(r'¬¬¬', '¬', expression)\n",
    "    \n",
    "    return expression\n",
    "\n",
    "# Test the function with examples\n",
    "expression =[ \n",
    " \"¬¬¬¬ p \"\n",
    " \"¬¬¬ p ∧ ¬¬q\",\n",
    " \"¬¬¬ p\",\n",
    " \"¬¬ p ∨ ¬¬q\"\n",
    "]\n",
    "for expr in expression:\n",
    "    result = remove_double_negations(expr)\n",
    "    print(f\"result: {result}\\n\")\n",
    "\n"
   ]
  },
  {
   "cell_type": "markdown",
   "id": "c8b9d4d1",
   "metadata": {},
   "source": [
    "# Standardize variable scope\n"
   ]
  },
  {
   "cell_type": "code",
   "execution_count": 121,
   "id": "1888da93",
   "metadata": {},
   "outputs": [
    {
     "name": "stdout",
     "output_type": "stream",
     "text": [
      "Resulting formula: ∀ x P(x) ∧ ∃ x2 Q(x2) ∧ ∀ x3 P(x3)\n"
     ]
    }
   ],
   "source": [
    "def standardize_variable_scope(formula):\n",
    "    # Regular expression pattern to match quantified expressions\n",
    "    quant_pattern = r'(∀|∃)\\s+(\\w+)\\s+'\n",
    "    \n",
    "    # Regular expression pattern to match predicate expressions\n",
    "    pred_pattern = r'(\\w+)\\((\\w+)\\)'\n",
    "\n",
    "    # Dictionary to keep track of renamed variables for quantified expressions\n",
    "    quant_variable_map = {}\n",
    "\n",
    "    # Dictionary to keep track of renamed variables for predicate expressions\n",
    "    pred_variable_map = {}\n",
    "\n",
    "    # Function to generate a new unique variable name for quantified expressions\n",
    "    def generate_unique_quant_variable_name(variable):\n",
    "        if variable not in quant_variable_map:\n",
    "            quant_variable_map[variable] = 0\n",
    "        quant_variable_map[variable] += 1\n",
    "        return variable + (str(quant_variable_map[variable]) if quant_variable_map[variable] > 1 else \"\")\n",
    "\n",
    "    # Function to generate a new unique variable name for predicate expressions\n",
    "    def generate_unique_pred_variable_name(variable):\n",
    "        if variable not in pred_variable_map:\n",
    "            pred_variable_map[variable] = 0\n",
    "        pred_variable_map[variable] += 1\n",
    "        return variable + (str(pred_variable_map[variable]) if pred_variable_map[variable] > 1 else \"\")\n",
    "\n",
    "    # Replace quantified variables with standardized names\n",
    "    def replace_quantified_variables(match):\n",
    "        quantifier = match.group(1)\n",
    "        variable = match.group(2)\n",
    "        new_variable = generate_unique_quant_variable_name(variable)\n",
    "        return f'{quantifier} {new_variable} '\n",
    "\n",
    "    # Replace predicate variables with standardized names\n",
    "    def replace_predicate_variables(match):\n",
    "        predicate = match.group(1)\n",
    "        variable = match.group(2)\n",
    "        new_variable = generate_unique_pred_variable_name(variable)\n",
    "        return f'{predicate}({new_variable})'\n",
    "\n",
    "    # Use re.sub() to perform the substitution for quantified variables\n",
    "    modified_formula = re.sub(quant_pattern, replace_quantified_variables, formula)\n",
    "    \n",
    "    # Use re.sub() to perform the substitution for predicate variables\n",
    "    modified_formula = re.sub(pred_pattern, replace_predicate_variables, modified_formula)\n",
    "\n",
    "    return modified_formula\n",
    "\n",
    "# Test the function with a formula\n",
    "formula = \"∀ x P(x) ∧ ∃ x Q(x) ∧ ∀ x P(x)\"\n",
    "result = standardize_variable_scope(formula)\n",
    "print(\"Resulting formula:\", result)"
   ]
  },
  {
   "cell_type": "markdown",
   "id": "5cfe74f2",
   "metadata": {},
   "source": [
    "# The prenex form (obtained by moving all quantifiers to the left of the formula.)"
   ]
  },
  {
   "cell_type": "code",
   "execution_count": 122,
   "id": "aece026e",
   "metadata": {},
   "outputs": [
    {
     "name": "stdout",
     "output_type": "stream",
     "text": [
      "['∀x', 'P(x)', '∨', '∃y', 'Q(y)']\n",
      "Formula in Prenex Form: ∀x ∃y P(x) ∨ Q(y)\n"
     ]
    }
   ],
   "source": [
    "def to_prenex_form(formula):\n",
    "    quantifiers = []\n",
    "    predicates = []\n",
    "\n",
    "    # Split the formula into quantifiers and predicates\n",
    "    parts = formula.split(' ')\n",
    "    for part in parts:\n",
    "        if part.startswith('∀') or part.startswith('∃'):\n",
    "            quantifiers.append(part)\n",
    "        else:\n",
    "            predicates.append(part)\n",
    "\n",
    "    # Construct the prenex form\n",
    "    prenex_form = ' '.join(quantifiers + predicates)\n",
    "\n",
    "    return prenex_form\n",
    "\n",
    "# Test the function with the given formula\n",
    "formula = \"∀x P(x) ∨ ∃y Q(y)\"\n",
    "print (formula.split(' '))\n",
    "prenex_form = to_prenex_form(formula)\n",
    "print(\"Formula in Prenex Form:\", prenex_form)\n"
   ]
  },
  {
   "cell_type": "markdown",
   "id": "bf6dfa9e",
   "metadata": {},
   "source": [
    "# Skolemization for existential quantifiers."
   ]
  },
  {
   "cell_type": "code",
   "execution_count": 131,
   "id": "e81fbdf0",
   "metadata": {},
   "outputs": [
    {
     "name": "stdout",
     "output_type": "stream",
     "text": [
      "Expression 1 after Skolemization: P(x) ∨ Q(B) ∨ U(B)\n",
      "Expression 2 after Skolemization: ∀ x W(F(x))\n",
      "Expression 3 after Skolemization: ∀ w P(w)\n"
     ]
    }
   ],
   "source": [
    "def skolemization(expression):\n",
    "    # Regular expression patterns\n",
    "    pattern_exist = r'∃\\s+\\w+\\s+'\n",
    "    pattern_forall = r'∀\\s+(\\w+)\\s+'\n",
    "    pattern_c_y = r'(\\w+)\\(y\\)'\n",
    "\n",
    "    # Function to generate a replacement for C(y)\n",
    "    def replace_c_y(match):\n",
    "        prefix = match.group(1)\n",
    "        return f'{prefix}({replacement_char})'  # Replace y with replacement_char\n",
    "\n",
    "    # Check if 'forall' and 'exist' are present in the expression\n",
    "    exist_present = re.search(pattern_exist, expression)\n",
    "    forall_present = re.search(pattern_forall, expression)\n",
    "\n",
    "    # Set replacement character based on conditions\n",
    "    if exist_present and forall_present:\n",
    "        variable = forall_present.group(1)  # Get the variable from 'forall'\n",
    "        replacement_char = f'F({variable})'  # Use F(variable) if both 'exist' and 'forall' are present\n",
    "    elif exist_present:\n",
    "        replacement_char = 'B'  # Use B if only 'exist' is present\n",
    "    else:\n",
    "        replacement_char = None  # No replacement needed\n",
    "\n",
    "    # If no replacement character is needed, return the original expression\n",
    "    if replacement_char is None:\n",
    "        return expression\n",
    "\n",
    "    # Replace existential quantifiers with nothing\n",
    "    modified_expression = re.sub(pattern_exist, '', expression)\n",
    "\n",
    "    # Replace C(y) with the chosen replacement character\n",
    "    modified_expression = re.sub(pattern_c_y, replace_c_y, modified_expression)\n",
    "\n",
    "    return modified_expression\n",
    "\n",
    "# Example usage\n",
    "expression_1 = \"∃ y P(x) ∨ Q(y) ∨ U(y)\"\n",
    "expression_2 = \"∀ x ∃ y W(y)\"\n",
    "expression_3 = \"∀ w P(w)\"\n",
    "\n",
    "result_1 = skolemization(expression_1)\n",
    "result_2 = skolemization(expression_2)\n",
    "result_3 = skolemization(expression_3)\n",
    "\n",
    "#print(\"Original Expression 1:\", expression_1)\n",
    "print(\"Expression 1 after Skolemization:\", result_1)\n",
    "\n",
    "#print(\"Original Expression 2:\", expression_2)\n",
    "print(\"Expression 2 after Skolemization:\", result_2)\n",
    "\n",
    "#print(\"Original Expression 3:\", expression_3)\n",
    "print(\"Expression 3 after Skolemization:\", result_3)"
   ]
  },
  {
   "cell_type": "markdown",
   "id": "76d851a4",
   "metadata": {},
   "source": [
    "#  Eliminate universal quantifiers"
   ]
  },
  {
   "cell_type": "code",
   "execution_count": 124,
   "id": "b9e3d463",
   "metadata": {},
   "outputs": [
    {
     "name": "stdout",
     "output_type": "stream",
     "text": [
      "Result 1: P(x) ∨ Q(F(x))\n",
      "Result 2: P(x) ∨ Q(m)\n"
     ]
    }
   ],
   "source": [
    "def eliminate_universal_quantifiers(expression):\n",
    "    # Regular expression pattern to match universal quantifiers\n",
    "    pattern = re.compile(r'∀(\\w+)\\s+')\n",
    "\n",
    "    # Replace universal quantifiers with empty string\n",
    "    modified_expression = re.sub(pattern, '', expression)\n",
    "\n",
    "    return modified_expression\n",
    "\n",
    "# Test the function with examples\n",
    "expression1 = \"∀x P(x) ∨ Q(F(x))\"\n",
    "expression2 = \"∀x ∀m P(x) ∨ Q(m)\"\n",
    "\n",
    "result1 = eliminate_universal_quantifiers(expression1)\n",
    "result2 = eliminate_universal_quantifiers(expression2)\n",
    "\n",
    "print(\"Result 1:\", result1)\n",
    "print(\"Result 2:\", result2)"
   ]
  },
  {
   "cell_type": "markdown",
   "id": "76828567",
   "metadata": {},
   "source": [
    "# Convert to conjunctive normal form"
   ]
  },
  {
   "cell_type": "code",
   "execution_count": 125,
   "id": "c81a6cb6",
   "metadata": {},
   "outputs": [
    {
     "name": "stdout",
     "output_type": "stream",
     "text": [
      "CNF Expression 1: (p ∨ q) ∧ (p ∨ r)\n",
      "CNF Expression 2: (p ∧ q) ∨ (p ∧ r)\n"
     ]
    }
   ],
   "source": [
    "def to_cnf(expression):\n",
    "    # Apply distribution of disjunction over conjunction\n",
    "    expression = re.sub(r'(\\w)\\s*∨\\s*\\((\\w)\\s*∧\\s*(\\w)\\)', r'(\\1 ∨ \\2) ∧ (\\1 ∨ \\3)', expression)\n",
    "    \n",
    "    # Apply distribution of conjunction over disjunction\n",
    "    expression = re.sub(r'(\\w)\\s*∧\\s*\\((\\w)\\s*∨\\s*(\\w)\\)', r'(\\1 ∧ \\2) ∨ (\\1 ∧ \\3)', expression)\n",
    "\n",
    "    return expression\n",
    "\n",
    "# Test the function with the given expressions\n",
    "expression1 = \"p ∨ (q ∧ r)\"\n",
    "expression2 = \"p ∧ (q ∨ r)\"\n",
    "\n",
    "cnf_expression1 = to_cnf(expression1)\n",
    "cnf_expression2 = to_cnf(expression2)\n",
    "\n",
    "print(\"CNF Expression 1:\", cnf_expression1)\n",
    "print(\"CNF Expression 2:\", cnf_expression2)"
   ]
  },
  {
   "cell_type": "markdown",
   "id": "75c34cf0",
   "metadata": {},
   "source": [
    "#  9 and 10\n"
   ]
  },
  {
   "cell_type": "code",
   "execution_count": 147,
   "id": "4814db3a",
   "metadata": {
    "scrolled": true
   },
   "outputs": [
    {
     "name": "stdout",
     "output_type": "stream",
     "text": [
      "After turning conjunctions into clauses:\n",
      "p1 , q2\n",
      "p1 , r2\n",
      "c1 , y2\n",
      "\n",
      "After renaming variables in clauses:\n",
      "p_1 , q_2\n",
      "p_1 , r_2\n",
      "c_1 , y_2\n"
     ]
    }
   ],
   "source": [
    "# 9. Turn conjunctions into clauses in a set, and rename variables so that noclause shares the same variable name.\n",
    "# 10.Rename variables in clauses so that each clause has a unique variable name.\n",
    "# (p ∨ q) ∧ (p ∨ r)\n",
    "# (p , q) ∧ (p , r)\n",
    "# (p , q) \n",
    "# (p , q)\n",
    "# (p1 , p2) \n",
    "# (p3 , p4)\n",
    "\n",
    "def turn_conjunctions_into_clauses(expression):\n",
    "    # Pattern to match conjunctions\n",
    "    conjunction_pattern = re.compile(r'\\(([^)]+)\\)')\n",
    "\n",
    "    # Find all conjunctions in the expression\n",
    "    conjunctions = conjunction_pattern.findall(expression)\n",
    "\n",
    "    # Rename variables in each conjunction\n",
    "    renamed_conjunctions = []\n",
    "    for conjunction in conjunctions:\n",
    "        variables = conjunction.split(' ∨ ')\n",
    "        renamed_variables = []\n",
    "        for i, variable in enumerate(variables):\n",
    "            renamed_variables.append(variable + str(i+1))\n",
    "        renamed_conjunctions.append(' , '.join(renamed_variables))\n",
    "\n",
    "    # Join the renamed conjunctions with newline\n",
    "    return '\\n'.join(renamed_conjunctions)\n",
    "\n",
    "def rename_variables_in_clauses(expression):\n",
    "    # Pattern to match variables in clauses\n",
    "    variable_pattern = re.compile(r'([a-zA-Z]+)(\\d+)')\n",
    "\n",
    "    # Find all variables in the expression\n",
    "    variables = set(variable_pattern.findall(expression))\n",
    "\n",
    "    # Rename each variable with a unique name\n",
    "    renamed_expression = expression\n",
    "    for variable, index in variables:\n",
    "        renamed_expression = renamed_expression.replace(variable + index, variable + '_' + index)\n",
    "\n",
    "    return renamed_expression\n",
    "\n",
    "# Original expression\n",
    "expression = \"(p ∨ q) ∧ (p ∨ r)∧ (c ∨ y)\"\n",
    "\n",
    "# Task 9: Turn conjunctions into clauses in a set\n",
    "expression = turn_conjunctions_into_clauses(expression)\n",
    "print(\"After turning conjunctions into clauses:\")\n",
    "print(expression)\n",
    "\n",
    "# Task 10: Rename variables in clauses so that each clause has a unique variable name\n",
    "expression = rename_variables_in_clauses(expression)\n",
    "print(\"\\nAfter renaming variables in clauses:\")\n",
    "print(expression)\n",
    "\n"
   ]
  },
  {
   "cell_type": "markdown",
   "id": "62ceadaf",
   "metadata": {},
   "source": [
    "# exmple\n"
   ]
  },
  {
   "cell_type": "code",
   "execution_count": 156,
   "id": "2468be70",
   "metadata": {},
   "outputs": [
    {
     "name": "stdout",
     "output_type": "stream",
     "text": [
      "¬∀x ¬p ∨ q\n",
      "¬∀x ¬p ∨ q\n",
      "¬∀x ¬p ∨ q\n",
      "¬∀x ¬p ∨ q\n",
      "¬∀x ¬p ∨ q\n",
      "¬∀x ¬p ∨ q\n",
      "¬¬p ∨ q\n",
      "¬¬p ∨ q\n",
      "\n"
     ]
    }
   ],
   "source": [
    "shape=['¬','∧','∨','(∃','∀']\n",
    "kb=\"¬∀x p => q\"\n",
    "exp=kb\n",
    "\n",
    "\n",
    "value=eliminate_implication(exp)\n",
    "print (value)\n",
    "value=move_negation_inward(value)\n",
    "print (value)\n",
    "value=remove_double_negations(value)\n",
    "print (value)\n",
    "value=standardize_variable_scope(value)\n",
    "print (value)\n",
    "value=to_prenex_form(value)\n",
    "print (value)\n",
    "value=skolemization(value)\n",
    "print (value)\n",
    "value=eliminate_universal_quantifiers(value)\n",
    "print (value)\n",
    "value=to_cnf(value)\n",
    "print (value)\n",
    "value=turn_conjunctions_into_clauses(value)\n",
    "print (value)"
   ]
  },
  {
   "cell_type": "code",
   "execution_count": null,
   "id": "502f5c32",
   "metadata": {},
   "outputs": [],
   "source": []
  },
  {
   "cell_type": "code",
   "execution_count": null,
   "id": "95e5377f",
   "metadata": {},
   "outputs": [],
   "source": []
  }
 ],
 "metadata": {
  "kernelspec": {
   "display_name": "Python 3 (ipykernel)",
   "language": "python",
   "name": "python3"
  },
  "language_info": {
   "codemirror_mode": {
    "name": "ipython",
    "version": 3
   },
   "file_extension": ".py",
   "mimetype": "text/x-python",
   "name": "python",
   "nbconvert_exporter": "python",
   "pygments_lexer": "ipython3",
   "version": "3.11.4"
  }
 },
 "nbformat": 4,
 "nbformat_minor": 5
}
